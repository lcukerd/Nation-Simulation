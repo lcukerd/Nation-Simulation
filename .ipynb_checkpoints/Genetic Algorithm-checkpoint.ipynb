{
 "cells": [
  {
   "cell_type": "code",
   "execution_count": 1,
   "metadata": {},
   "outputs": [
    {
     "data": {
      "text/plain": [
       "(6, 0)"
      ]
     },
     "execution_count": 1,
     "metadata": {},
     "output_type": "execute_result"
    }
   ],
   "source": [
    "import numpy as np\n",
    "from random import randint\n",
    "import pygame as py\n",
    "import time\n",
    "\n",
    "py.init()"
   ]
  },
  {
   "cell_type": "code",
   "execution_count": 9,
   "metadata": {},
   "outputs": [],
   "source": [
    "class Country:\n",
    "    def __init__(self,population,chosen,childs,lucky_factor,mutation_factor,size,options):\n",
    "        self.population = population\n",
    "        self.chosen = chosen\n",
    "        self.childs = childs\n",
    "        self.lucky_factor = lucky_factor\n",
    "        self.mutation_factor = mutation_factor\n",
    "        self.size = size\n",
    "        self.options = options\n",
    "        self.Individuals = self.createFirstGeneration()\n",
    "        \n",
    "    def get_population(self):\n",
    "        return self.Individuals\n",
    "        \n",
    "    def evolve(self,fitness):\n",
    "        # Return best player from last gen\n",
    "        self.Individuals,best = self.Selection(fitness)\n",
    " \n",
    "        print ('Do Nothing : {}, Build Army : {}, Attack : {} / {}'.format(\n",
    "               np.count_nonzero(self.Individuals==0), \n",
    "               np.count_nonzero(self.Individuals==1), \n",
    "               np.count_nonzero(self.Individuals==2), \n",
    "               self.size*self.chosen))\n",
    "        \n",
    "        self.Individuals = self.breeding()\n",
    "        self.mutation()            \n",
    "        return self.Individuals,best\n",
    "    \n",
    "    def createFirstGeneration(self):\n",
    "        self.Individuals = np.random.randint(self.options,size = self.size)\n",
    "        for i in range(self.population-1):\n",
    "            self.Individuals = np.vstack(\n",
    "                (self.Individuals,np.random.randint(self.options,size = self.size)))\n",
    "        return self.Individuals\n",
    "    \n",
    "    def Selection(self,fitness):\n",
    "        inds = fitness.argsort()\n",
    "        self.Individuals = self.Individuals[inds]\n",
    "        Selected = np.array(self.Individuals[self.Individuals.shape[0]-1])\n",
    "        for i in range(self.Individuals.shape[0]):\n",
    "            if (i > self.Individuals.shape[0] - self.chosen):\n",
    "                Selected = np.vstack((Selected,self.Individuals[i]))\n",
    "            elif (np.random.uniform() <= self.lucky_factor):\n",
    "                Selected = np.vstack((Selected,self.Individuals[i]))\n",
    "        return Selected,self.Individuals[self.Individuals.shape[0]-1]\n",
    "    \n",
    "    def breeding(self):\n",
    "        NextGen = np.array(self.createChild(self.Individuals[0],self.Individuals[1]))\n",
    "        for i in range(0,self.Individuals.shape[0]-1):\n",
    "            for j in range(self.childs):\n",
    "                NextGen = np.vstack((NextGen,self.createChild(self.Individuals[i],self.Individuals[i+1])))\n",
    "        return NextGen\n",
    "    \n",
    "    def createChild(self,parent1,parent2):\n",
    "        child = np.array([])\n",
    "        for i in range(parent1.shape[0]):\n",
    "            if (randint(0,1) == 1):\n",
    "                child = np.append(child,parent1[i])\n",
    "            else:\n",
    "                child = np.append(child,parent2[i])\n",
    "        return child\n",
    "    \n",
    "    def mutation(self):\n",
    "        for i in range(self.Individuals.shape[0]):\n",
    "            if (np.random.uniform() <= self.mutation_factor):\n",
    "                self.Individuals[i,randint(0,self.Individuals.shape[1]-1)] = np.random.randint(self.options)"
   ]
  },
  {
   "cell_type": "code",
   "execution_count": 10,
   "metadata": {},
   "outputs": [],
   "source": [
    "class Game_Env:\n",
    "    def __init__(self,rounds,land,p_per_l,price,players,render):\n",
    "        self.rounds = rounds\n",
    "        self.army = np.array([0,0,0,0])\n",
    "        self.points = np.array([0,0,0,0])\n",
    "        self.land = np.array([land,land,land,land])\n",
    "        self.p_per_l = p_per_l\n",
    "        self.price = price\n",
    "        self.players = players\n",
    "        self.render = render\n",
    "        self.screen_size = (250 * players,400)\n",
    "        self.colors = [[255,0,0],[255,255,0],[0,0,255],[0,255,255]]\n",
    "        self.font = py.font.SysFont('Calibri', 25, False, False)\n",
    "        if render:\n",
    "            self.screen = py.display.set_mode(self.screen_size)\n",
    "    \n",
    "    def renderer(self):\n",
    "        if self.render:\n",
    "            start = 0\n",
    "            for i in range(self.players):\n",
    "                if (i != 0):\n",
    "                    start = 50*self.land[i-1] + start\n",
    "                py.draw.rect(self.screen,self.colors[i],\n",
    "                         [start,0,self.land[i]*50,self.screen_size[1]],0)\n",
    "                self.screen.blit(self.font.render(str(self.points[i]) + ' ' + str(self.army[i]),True,[0,0,0]),\n",
    "                            [start+10, self.screen_size[1]/4])   \n",
    "                py.display.flip()\n",
    "                \n",
    "    def play(self,Individual1,Individual2,Individual3,Individual4):\n",
    "        Individual = np.vstack((Individual1,Individual2,Individual3,Individual4))\n",
    "        self.army = np.array([0,0,0,0])\n",
    "        for i in range(self.rounds):\n",
    "            if self.render:\n",
    "                self.renderer()\n",
    "                time.sleep(0.5)\n",
    "            self.points += self.land *self.p_per_l\n",
    "            for j in range(Individual.shape[0]): \n",
    "                if (Individual[j,i] == 1 and self.points[j]>=self.price):\n",
    "                    self.points[j] -= self.price\n",
    "                    self.army[j] += 1\n",
    "                elif (Individual[j,i] == 2):\n",
    "                    defender = j + 1\n",
    "                    if (defender >= self.players):\n",
    "                        defender = 0\n",
    "                    self.attack(j,defender)\n",
    "                if (self.land[j] == 0):\n",
    "                    self.points[j] = 0\n",
    "        return self.points[0],self.points[1],self.points[2],self.points[3]\n",
    "    \n",
    "    def attack(self,attacker,defender):\n",
    "        if (attacker == defender):\n",
    "            return\n",
    "        a_power = self.army[attacker]\n",
    "        self.army[attacker] -= self.army[defender]\n",
    "        self.army[defender] -= a_power\n",
    "        if (self.army[defender] < 0):\n",
    "            if (self.land[defender] <= 0):\n",
    "                self.army[defender] = 0\n",
    "                defender = defender + 1\n",
    "                if (defender >= self.players):\n",
    "                    defender = 0\n",
    "                self.attack(attacker,defender)\n",
    "            else:\n",
    "                self.land[defender] -=1\n",
    "                self.land[attacker] +=1\n",
    "                self.army[defender] = 0\n",
    "        elif (self.army[attacker] < 0):\n",
    "            self.army[attacker] = 0"
   ]
  },
  {
   "cell_type": "code",
   "execution_count": 11,
   "metadata": {},
   "outputs": [],
   "source": [
    "def Fitness(population1,population2,population3,population4):\n",
    "    fitness1 = np.array([])\n",
    "    fitness2 = np.array([])\n",
    "    fitness3 = np.array([])\n",
    "    fitness4 = np.array([])\n",
    "    for i in range(population1.shape[0]):\n",
    "        env = Game_Env(rounds,5,10,100,4,False)\n",
    "        reward1, reward2, reward3, reward4 = env.play(population1[i],population2[i],population3[i],population4[i])\n",
    "        fitness1 = np.append(fitness1,reward1)\n",
    "        fitness2 = np.append(fitness2,reward2)\n",
    "        fitness3 = np.append(fitness3,reward3)\n",
    "        fitness4 = np.append(fitness4,reward4)\n",
    "    return fitness1.astype(int),fitness2.astype(int),fitness3.astype(int),fitness4.astype(int)"
   ]
  },
  {
   "cell_type": "code",
   "execution_count": 17,
   "metadata": {},
   "outputs": [],
   "source": [
    "Generations = 10000\n",
    "population = 20\n",
    "chosen = 5\n",
    "childs = 4\n",
    "lucky_factor = 0.0\n",
    "mutation_factor = 0.3\n",
    "rounds = 50\n",
    "options = 3\n",
    "\n",
    "Country1 = Country(population,chosen,childs,lucky_factor,mutation_factor,rounds,options)\n",
    "Country2 = Country(population,chosen,childs,lucky_factor,mutation_factor,rounds,options)\n",
    "Country3 = Country(population,chosen,childs,lucky_factor,mutation_factor,rounds,options)\n",
    "Country4 = Country(population,chosen,childs,lucky_factor,mutation_factor,rounds,options)\n",
    "\n",
    "Population1 = Country1.get_population()\n",
    "Population2 = Country2.get_population()\n",
    "Population3 = Country3.get_population()\n",
    "Population4 = Country4.get_population()"
   ]
  },
  {
   "cell_type": "code",
   "execution_count": 18,
   "metadata": {
    "scrolled": true
   },
   "outputs": [
    {
     "name": "stdout",
     "output_type": "stream",
     "text": [
      "Generations :  577  Population :  17\r"
     ]
    },
    {
     "ename": "KeyboardInterrupt",
     "evalue": "",
     "output_type": "error",
     "traceback": [
      "\u001b[0;31m---------------------------------------------------------------------------\u001b[0m",
      "\u001b[0;31mKeyboardInterrupt\u001b[0m                         Traceback (most recent call last)",
      "\u001b[0;32m<ipython-input-18-8bdf37bce3d2>\u001b[0m in \u001b[0;36m<module>\u001b[0;34m()\u001b[0m\n\u001b[1;32m      7\u001b[0m \u001b[0;34m\u001b[0m\u001b[0m\n\u001b[1;32m      8\u001b[0m     \u001b[0mPopulation1\u001b[0m\u001b[0;34m,\u001b[0m\u001b[0mbest1\u001b[0m \u001b[0;34m=\u001b[0m \u001b[0mCountry1\u001b[0m\u001b[0;34m.\u001b[0m\u001b[0mevolve\u001b[0m\u001b[0;34m(\u001b[0m\u001b[0mfitness1\u001b[0m\u001b[0;34m)\u001b[0m\u001b[0;34m\u001b[0m\u001b[0m\n\u001b[0;32m----> 9\u001b[0;31m     \u001b[0mPopulation2\u001b[0m\u001b[0;34m,\u001b[0m\u001b[0mbest2\u001b[0m \u001b[0;34m=\u001b[0m \u001b[0mCountry2\u001b[0m\u001b[0;34m.\u001b[0m\u001b[0mevolve\u001b[0m\u001b[0;34m(\u001b[0m\u001b[0mfitness2\u001b[0m\u001b[0;34m)\u001b[0m\u001b[0;34m\u001b[0m\u001b[0m\n\u001b[0m\u001b[1;32m     10\u001b[0m     \u001b[0mPopulation3\u001b[0m\u001b[0;34m,\u001b[0m\u001b[0mbest3\u001b[0m\u001b[0;34m=\u001b[0m \u001b[0mCountry3\u001b[0m\u001b[0;34m.\u001b[0m\u001b[0mevolve\u001b[0m\u001b[0;34m(\u001b[0m\u001b[0mfitness3\u001b[0m\u001b[0;34m)\u001b[0m\u001b[0;34m\u001b[0m\u001b[0m\n\u001b[1;32m     11\u001b[0m     \u001b[0mPopulation4\u001b[0m\u001b[0;34m,\u001b[0m\u001b[0mbest4\u001b[0m \u001b[0;34m=\u001b[0m \u001b[0mCountry4\u001b[0m\u001b[0;34m.\u001b[0m\u001b[0mevolve\u001b[0m\u001b[0;34m(\u001b[0m\u001b[0mfitness4\u001b[0m\u001b[0;34m)\u001b[0m\u001b[0;34m\u001b[0m\u001b[0m\n",
      "\u001b[0;32m<ipython-input-9-7258b7579ef4>\u001b[0m in \u001b[0;36mevolve\u001b[0;34m(self, fitness)\u001b[0m\n\u001b[1;32m     17\u001b[0m         \u001b[0mself\u001b[0m\u001b[0;34m.\u001b[0m\u001b[0mIndividuals\u001b[0m\u001b[0;34m,\u001b[0m\u001b[0mbest\u001b[0m \u001b[0;34m=\u001b[0m \u001b[0mself\u001b[0m\u001b[0;34m.\u001b[0m\u001b[0mSelection\u001b[0m\u001b[0;34m(\u001b[0m\u001b[0mfitness\u001b[0m\u001b[0;34m)\u001b[0m\u001b[0;34m\u001b[0m\u001b[0m\n\u001b[1;32m     18\u001b[0m \u001b[0;34m\u001b[0m\u001b[0m\n\u001b[0;32m---> 19\u001b[0;31m         \u001b[0mself\u001b[0m\u001b[0;34m.\u001b[0m\u001b[0mIndividuals\u001b[0m \u001b[0;34m=\u001b[0m \u001b[0mself\u001b[0m\u001b[0;34m.\u001b[0m\u001b[0mbreeding\u001b[0m\u001b[0;34m(\u001b[0m\u001b[0;34m)\u001b[0m\u001b[0;34m\u001b[0m\u001b[0m\n\u001b[0m\u001b[1;32m     20\u001b[0m         \u001b[0mself\u001b[0m\u001b[0;34m.\u001b[0m\u001b[0mmutation\u001b[0m\u001b[0;34m(\u001b[0m\u001b[0;34m)\u001b[0m\u001b[0;34m\u001b[0m\u001b[0m\n\u001b[1;32m     21\u001b[0m         \u001b[0;32mreturn\u001b[0m \u001b[0mself\u001b[0m\u001b[0;34m.\u001b[0m\u001b[0mIndividuals\u001b[0m\u001b[0;34m,\u001b[0m\u001b[0mbest\u001b[0m\u001b[0;34m\u001b[0m\u001b[0m\n",
      "\u001b[0;32m<ipython-input-9-7258b7579ef4>\u001b[0m in \u001b[0;36mbreeding\u001b[0;34m(self)\u001b[0m\n\u001b[1;32m     43\u001b[0m         \u001b[0;32mfor\u001b[0m \u001b[0mi\u001b[0m \u001b[0;32min\u001b[0m \u001b[0mrange\u001b[0m\u001b[0;34m(\u001b[0m\u001b[0;36m0\u001b[0m\u001b[0;34m,\u001b[0m\u001b[0mself\u001b[0m\u001b[0;34m.\u001b[0m\u001b[0mIndividuals\u001b[0m\u001b[0;34m.\u001b[0m\u001b[0mshape\u001b[0m\u001b[0;34m[\u001b[0m\u001b[0;36m0\u001b[0m\u001b[0;34m]\u001b[0m\u001b[0;34m-\u001b[0m\u001b[0;36m1\u001b[0m\u001b[0;34m)\u001b[0m\u001b[0;34m:\u001b[0m\u001b[0;34m\u001b[0m\u001b[0m\n\u001b[1;32m     44\u001b[0m             \u001b[0;32mfor\u001b[0m \u001b[0mj\u001b[0m \u001b[0;32min\u001b[0m \u001b[0mrange\u001b[0m\u001b[0;34m(\u001b[0m\u001b[0mself\u001b[0m\u001b[0;34m.\u001b[0m\u001b[0mchilds\u001b[0m\u001b[0;34m)\u001b[0m\u001b[0;34m:\u001b[0m\u001b[0;34m\u001b[0m\u001b[0m\n\u001b[0;32m---> 45\u001b[0;31m                 \u001b[0mNextGen\u001b[0m \u001b[0;34m=\u001b[0m \u001b[0mnp\u001b[0m\u001b[0;34m.\u001b[0m\u001b[0mvstack\u001b[0m\u001b[0;34m(\u001b[0m\u001b[0;34m(\u001b[0m\u001b[0mNextGen\u001b[0m\u001b[0;34m,\u001b[0m\u001b[0mself\u001b[0m\u001b[0;34m.\u001b[0m\u001b[0mcreateChild\u001b[0m\u001b[0;34m(\u001b[0m\u001b[0mself\u001b[0m\u001b[0;34m.\u001b[0m\u001b[0mIndividuals\u001b[0m\u001b[0;34m[\u001b[0m\u001b[0mi\u001b[0m\u001b[0;34m]\u001b[0m\u001b[0;34m,\u001b[0m\u001b[0mself\u001b[0m\u001b[0;34m.\u001b[0m\u001b[0mIndividuals\u001b[0m\u001b[0;34m[\u001b[0m\u001b[0mi\u001b[0m\u001b[0;34m+\u001b[0m\u001b[0;36m1\u001b[0m\u001b[0;34m]\u001b[0m\u001b[0;34m)\u001b[0m\u001b[0;34m)\u001b[0m\u001b[0;34m)\u001b[0m\u001b[0;34m\u001b[0m\u001b[0m\n\u001b[0m\u001b[1;32m     46\u001b[0m         \u001b[0;32mreturn\u001b[0m \u001b[0mNextGen\u001b[0m\u001b[0;34m\u001b[0m\u001b[0m\n\u001b[1;32m     47\u001b[0m \u001b[0;34m\u001b[0m\u001b[0m\n",
      "\u001b[0;32m<ipython-input-9-7258b7579ef4>\u001b[0m in \u001b[0;36mcreateChild\u001b[0;34m(self, parent1, parent2)\u001b[0m\n\u001b[1;32m     50\u001b[0m         \u001b[0;32mfor\u001b[0m \u001b[0mi\u001b[0m \u001b[0;32min\u001b[0m \u001b[0mrange\u001b[0m\u001b[0;34m(\u001b[0m\u001b[0mparent1\u001b[0m\u001b[0;34m.\u001b[0m\u001b[0mshape\u001b[0m\u001b[0;34m[\u001b[0m\u001b[0;36m0\u001b[0m\u001b[0;34m]\u001b[0m\u001b[0;34m)\u001b[0m\u001b[0;34m:\u001b[0m\u001b[0;34m\u001b[0m\u001b[0m\n\u001b[1;32m     51\u001b[0m             \u001b[0;32mif\u001b[0m \u001b[0;34m(\u001b[0m\u001b[0mrandint\u001b[0m\u001b[0;34m(\u001b[0m\u001b[0;36m0\u001b[0m\u001b[0;34m,\u001b[0m\u001b[0;36m1\u001b[0m\u001b[0;34m)\u001b[0m \u001b[0;34m==\u001b[0m \u001b[0;36m1\u001b[0m\u001b[0;34m)\u001b[0m\u001b[0;34m:\u001b[0m\u001b[0;34m\u001b[0m\u001b[0m\n\u001b[0;32m---> 52\u001b[0;31m                 \u001b[0mchild\u001b[0m \u001b[0;34m=\u001b[0m \u001b[0mnp\u001b[0m\u001b[0;34m.\u001b[0m\u001b[0mappend\u001b[0m\u001b[0;34m(\u001b[0m\u001b[0mchild\u001b[0m\u001b[0;34m,\u001b[0m\u001b[0mparent1\u001b[0m\u001b[0;34m[\u001b[0m\u001b[0mi\u001b[0m\u001b[0;34m]\u001b[0m\u001b[0;34m)\u001b[0m\u001b[0;34m\u001b[0m\u001b[0m\n\u001b[0m\u001b[1;32m     53\u001b[0m             \u001b[0;32melse\u001b[0m\u001b[0;34m:\u001b[0m\u001b[0;34m\u001b[0m\u001b[0m\n\u001b[1;32m     54\u001b[0m                 \u001b[0mchild\u001b[0m \u001b[0;34m=\u001b[0m \u001b[0mnp\u001b[0m\u001b[0;34m.\u001b[0m\u001b[0mappend\u001b[0m\u001b[0;34m(\u001b[0m\u001b[0mchild\u001b[0m\u001b[0;34m,\u001b[0m\u001b[0mparent2\u001b[0m\u001b[0;34m[\u001b[0m\u001b[0mi\u001b[0m\u001b[0;34m]\u001b[0m\u001b[0;34m)\u001b[0m\u001b[0;34m\u001b[0m\u001b[0m\n",
      "\u001b[0;32m~/.local/lib/python3.6/site-packages/numpy/lib/function_base.py\u001b[0m in \u001b[0;36mappend\u001b[0;34m(arr, values, axis)\u001b[0m\n\u001b[1;32m   5164\u001b[0m         \u001b[0mvalues\u001b[0m \u001b[0;34m=\u001b[0m \u001b[0mravel\u001b[0m\u001b[0;34m(\u001b[0m\u001b[0mvalues\u001b[0m\u001b[0;34m)\u001b[0m\u001b[0;34m\u001b[0m\u001b[0m\n\u001b[1;32m   5165\u001b[0m         \u001b[0maxis\u001b[0m \u001b[0;34m=\u001b[0m \u001b[0marr\u001b[0m\u001b[0;34m.\u001b[0m\u001b[0mndim\u001b[0m\u001b[0;34m-\u001b[0m\u001b[0;36m1\u001b[0m\u001b[0;34m\u001b[0m\u001b[0m\n\u001b[0;32m-> 5166\u001b[0;31m     \u001b[0;32mreturn\u001b[0m \u001b[0mconcatenate\u001b[0m\u001b[0;34m(\u001b[0m\u001b[0;34m(\u001b[0m\u001b[0marr\u001b[0m\u001b[0;34m,\u001b[0m \u001b[0mvalues\u001b[0m\u001b[0;34m)\u001b[0m\u001b[0;34m,\u001b[0m \u001b[0maxis\u001b[0m\u001b[0;34m=\u001b[0m\u001b[0maxis\u001b[0m\u001b[0;34m)\u001b[0m\u001b[0;34m\u001b[0m\u001b[0m\n\u001b[0m",
      "\u001b[0;31mKeyboardInterrupt\u001b[0m: "
     ]
    }
   ],
   "source": [
    "for i in range(Generations):\n",
    "    print ('Generations : ',i, ' Population : ',Population1.shape[0],end = '\\r')\n",
    "    \n",
    "    fitness1,fitness2,fitness3,fitness4 = Fitness(Population1,Population2,Population3,Population4)\n",
    "    \n",
    "    r_win = np.argmax(np.vstack((fitness1,fitness2,fitness3,fitness4)),axis = 0)\n",
    "    print ('Wins: A: {} / {} {}, B: {} / {} {}, C: {} / {} {}, D: {} / {} {}'\n",
    "           .format(np.count_nonzero(r_win==0),max(fitness1),min(fitness1),\n",
    "                   np.count_nonzero(r_win==1),max(fitness2),min(fitness2),\n",
    "                   np.count_nonzero(r_win==2),max(fitness3),min(fitness3),\n",
    "                   np.count_nonzero(r_win==3),max(fitness4),min(fitness4)),end='\\r')\n",
    "    \n",
    "    Population1,best1 = Country1.evolve(fitness1)\n",
    "    Population2,best2 = Country2.evolve(fitness2)\n",
    "    Population3,best3= Country3.evolve(fitness3)\n",
    "    Population4,best4 = Country4.evolve(fitness4)\n",
    "\n",
    "    if (i>9995):\n",
    "        env = Game_Env(rounds,5,10,5,4,True)\n",
    "        env.play(best1,best2,best3,best4)      "
   ]
  },
  {
   "cell_type": "code",
   "execution_count": 13,
   "metadata": {},
   "outputs": [],
   "source": [
    "size = (1000,400)\n",
    "screen = py.display.set_mode(size)"
   ]
  },
  {
   "cell_type": "code",
   "execution_count": 31,
   "metadata": {},
   "outputs": [],
   "source": [
    "py.draw.rect(screen,[255,0,0],[0,0,250,400],0)\n",
    "py.display.flip()"
   ]
  },
  {
   "cell_type": "code",
   "execution_count": 103,
   "metadata": {},
   "outputs": [
    {
     "data": {
      "text/plain": [
       "array([0, 1, 2, 3])"
      ]
     },
     "execution_count": 103,
     "metadata": {},
     "output_type": "execute_result"
    }
   ],
   "source": [
    "np.array([2,5,54,654]).argsort()"
   ]
  },
  {
   "cell_type": "code",
   "execution_count": null,
   "metadata": {},
   "outputs": [],
   "source": []
  }
 ],
 "metadata": {
  "kernelspec": {
   "display_name": "Python 3",
   "language": "python",
   "name": "python3"
  },
  "language_info": {
   "codemirror_mode": {
    "name": "ipython",
    "version": 3
   },
   "file_extension": ".py",
   "mimetype": "text/x-python",
   "name": "python",
   "nbconvert_exporter": "python",
   "pygments_lexer": "ipython3",
   "version": "3.6.5"
  }
 },
 "nbformat": 4,
 "nbformat_minor": 2
}
